{
 "cells": [
  {
   "cell_type": "code",
   "execution_count": 4,
   "id": "5a656bc0",
   "metadata": {},
   "outputs": [
    {
     "name": "stdout",
     "output_type": "stream",
     "text": [
      "[0. 0. 0. 0. 1. 0. 0. 0. 0. 0.]\n"
     ]
    }
   ],
   "source": [
    "#Numpy Assignment\n",
    "#1.Create a null vector of size 10 but the fifth value which is 1\n",
    "import numpy as np\n",
    "x = np.zeros(10)\n",
    "x[4] = 1\n",
    "print(x)"
   ]
  },
  {
   "cell_type": "code",
   "execution_count": 5,
   "id": "cd10c3f1",
   "metadata": {},
   "outputs": [
    {
     "name": "stdout",
     "output_type": "stream",
     "text": [
      "[10 11 12 13 14 15 16 17 18 19 20 21 22 23 24 25 26 27 28 29 30 31 32 33\n",
      " 34 35 36 37 38 39 40 41 42 43 44 45 46 47 48]\n"
     ]
    }
   ],
   "source": [
    "#2.Create a vector with values ranging from 10 to 49\n",
    "\n",
    "v= np.arange(10,49)\n",
    "print(v)"
   ]
  },
  {
   "cell_type": "code",
   "execution_count": 10,
   "id": "1048f955",
   "metadata": {},
   "outputs": [
    {
     "name": "stdout",
     "output_type": "stream",
     "text": [
      "3x3 matrix generated with values ranging from 0 to 8 \n",
      "[[0 1 2]\n",
      " [3 4 5]\n",
      " [6 7 8]]\n",
      "\n"
     ]
    }
   ],
   "source": [
    "#3.Create a 3x3 matrix with values ranging from 0 to 8\n",
    "mat2 = np.arange(9).reshape(3,3)\n",
    "print ('3x3 matrix generated with values ranging from 0 to 8 \\n%s\\n'%mat2)"
   ]
  },
  {
   "cell_type": "code",
   "execution_count": 23,
   "id": "04ff5be4",
   "metadata": {},
   "outputs": [
    {
     "name": "stdout",
     "output_type": "stream",
     "text": [
      "Indices of non-zero element \n",
      "[0 1 4]\n"
     ]
    }
   ],
   "source": [
    "#4.Find indices of non-zero elements from [1,2,0,0,4,0]\n",
    "a = np.nonzero([1,2,0,0,4,0])\n",
    "print('Indices of non-zero element \\n%s'%a)\n",
    "\n"
   ]
  },
  {
   "cell_type": "code",
   "execution_count": 24,
   "id": "7acb5015",
   "metadata": {},
   "outputs": [
    {
     "name": "stdout",
     "output_type": "stream",
     "text": [
      "The Minimum Values:\n",
      "0.008723841191228598\n",
      "The Maximum Values:\n",
      "0.9965121783660886\n"
     ]
    }
   ],
   "source": [
    "#5.Create a 10x10 array with random values and find the minimum and maximum values\n",
    "l = np.random.random((10,10))\n",
    "#print(l)\n",
    "lmin = l.min()\n",
    "lmax = l.max()\n",
    "print('The Minimum Values:\\n%s'%lmin)\n",
    "print('The Maximum Values:\\n%s'%lmax)\n",
    "\n"
   ]
  },
  {
   "cell_type": "code",
   "execution_count": 28,
   "id": "411032f6",
   "metadata": {},
   "outputs": [
    {
     "name": "stdout",
     "output_type": "stream",
     "text": [
      "The Mean value:\n",
      "0.5502175247684682\n"
     ]
    }
   ],
   "source": [
    "#6. Create a random vector of size 30 and find the mean value.\n",
    "z = np.random.random(30)\n",
    "d = z.mean()\n",
    "print('The Mean value:\\n%s'%d)\n"
   ]
  },
  {
   "cell_type": "code",
   "execution_count": null,
   "id": "cd126a3e",
   "metadata": {},
   "outputs": [],
   "source": []
  }
 ],
 "metadata": {
  "kernelspec": {
   "display_name": "Python 3",
   "language": "python",
   "name": "python3"
  },
  "language_info": {
   "codemirror_mode": {
    "name": "ipython",
    "version": 3
   },
   "file_extension": ".py",
   "mimetype": "text/x-python",
   "name": "python",
   "nbconvert_exporter": "python",
   "pygments_lexer": "ipython3",
   "version": "3.8.8"
  }
 },
 "nbformat": 4,
 "nbformat_minor": 5
}
